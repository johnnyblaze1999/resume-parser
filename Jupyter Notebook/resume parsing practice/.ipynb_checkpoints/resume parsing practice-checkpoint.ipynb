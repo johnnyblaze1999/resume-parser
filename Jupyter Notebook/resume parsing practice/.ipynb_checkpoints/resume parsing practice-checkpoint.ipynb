{
 "cells": [
  {
   "cell_type": "markdown",
   "id": "a1e4fb4c-7b3f-4141-b743-35dbf09b33d3",
   "metadata": {},
   "source": [
    "## Resume Parser"
   ]
  },
  {
   "cell_type": "markdown",
   "id": "fde86608-8572-4f1f-b260-30d4390d103f",
   "metadata": {},
   "source": [
    "### Installation"
   ]
  },
  {
   "cell_type": "markdown",
   "id": "040a094b-8019-4709-adc8-eecb82b25482",
   "metadata": {},
   "source": [
    "Install spacy version 2.3.5:\n",
    "pip install spacy==2.3.5\n",
    "\n",
    "Install en_core_web_sm 2.3.1:\n",
    "pip install https://github.com/explosion/spacy-models/releases/download/en_core_web_sm-2.3.1/en_core_web_sm-2.3.1.tar.gz\n",
    "\n",
    "Install pyreparser:\n",
    "pip install pyresparser\n",
    "\n",
    "#### NOTE: \n",
    "\n",
    "The above program is running on Python 3.9. However, Python 3.10 worked for some people.\n",
    "\n",
    "Remember to run Python in 64 bit. If Resource \u001b[93mstopwords\u001b[0m not found. -> start Python console -> import nltk -> nltk.download('stopwords')"
   ]
  },
  {
   "cell_type": "code",
   "execution_count": 21,
   "id": "381a6c99-050e-4461-910d-1ba32359872e",
   "metadata": {},
   "outputs": [],
   "source": [
    "from pyresparser import ResumeParser"
   ]
  },
  {
   "cell_type": "code",
   "execution_count": 22,
   "id": "8a832351-e9d6-42db-b86b-5a11d09adcd1",
   "metadata": {},
   "outputs": [],
   "source": [
    "# import en_core_web_sm\n",
    "# nlp = en_core_web_sm.load()"
   ]
  },
  {
   "cell_type": "code",
   "execution_count": 23,
   "id": "9cd63351-216b-4b20-9c3b-5ce0855b03dc",
   "metadata": {},
   "outputs": [],
   "source": [
    "# import PyPDF2\n",
    "# import os"
   ]
  },
  {
   "cell_type": "markdown",
   "id": "dbf98897-d5ae-45eb-b5b9-1532b5050225",
   "metadata": {},
   "source": [
    "#### Ignore the warning messages"
   ]
  },
  {
   "cell_type": "code",
   "execution_count": 24,
   "id": "9a4f5b1a-28e9-47ce-8ebd-4675009e18cd",
   "metadata": {},
   "outputs": [],
   "source": [
    "import warnings\n",
    "warnings.filterwarnings(\"ignore\", category=UserWarning)"
   ]
  },
  {
   "cell_type": "code",
   "execution_count": null,
   "id": "17a2e6c7-cc1a-4a6b-8b97-7a226073af5f",
   "metadata": {},
   "outputs": [],
   "source": [
    "###"
   ]
  },
  {
   "cell_type": "code",
   "execution_count": 25,
   "id": "70dd34c5-6516-4f48-95cc-15bdd6435837",
   "metadata": {},
   "outputs": [],
   "source": [
    "data = ResumeParser(\"deedy-cv.pdf\").get_extracted_data()"
   ]
  },
  {
   "cell_type": "code",
   "execution_count": 26,
   "id": "1881d2b6-2d39-4ebe-ba19-44b39f00dd06",
   "metadata": {},
   "outputs": [
    {
     "data": {
      "text/plain": [
       "{'name': 'Debarghya Das',\n",
       " 'email': 'deedy@fb.com',\n",
       " 'mobile_number': '607.379.5733',\n",
       " 'skills': ['Engineering',\n",
       "  'Computer science',\n",
       "  'Css',\n",
       "  'Python',\n",
       "  'Javascript',\n",
       "  'C++',\n",
       "  'Research',\n",
       "  'Interactive',\n",
       "  'Matlab',\n",
       "  'Shell',\n",
       "  'Teaching',\n",
       "  'Operating systems',\n",
       "  'Design',\n",
       "  'Facebook',\n",
       "  'Scala',\n",
       "  'C',\n",
       "  'Js',\n",
       "  'Programming',\n",
       "  'Coding',\n",
       "  'Mysql',\n",
       "  'Java',\n",
       "  'Mathematics',\n",
       "  'Php',\n",
       "  'Scripting',\n",
       "  'Android',\n",
       "  'Assembly',\n",
       "  'Robot',\n",
       "  'Plan',\n",
       "  'Software engineering',\n",
       "  'Cloud',\n",
       "  'Unix',\n",
       "  'Ios'],\n",
       " 'college_name': None,\n",
       " 'degree': ['MENG IN COMPUTER SCIENCE'],\n",
       " 'designation': ['SOFTWARE ENGINEER', 'BS IN COMPUTER SCIENCE'],\n",
       " 'experience': ['FACEBOOK | SOFTWARE ENGINEER',\n",
       "  'Jan 2015 - Present | New York, NY',\n",
       "  'COURSERA | KPCB FELLOW + SOFTWARE ENGINEERING INTERN',\n",
       "  'June 2014 – Sep 2014 | Mountain View, CA',\n",
       "  '• 52 out of 2500 applicants chosen to be a KPCB Fellow 2014.',\n",
       "  '• Led and shipped Yoda - the admin interface for the new Phoenix platform.',\n",
       "  '• Full-stack developer - Wrote and reviewed code for JS using Backbone, Jade,',\n",
       "  'Stylus and Require and Scala using Play',\n",
       "  'GOOGLE | SOFTWARE ENGINEERING INTERN',\n",
       "  'May 2013 – Aug 2013 | Mountain View, CA',\n",
       "  '• Worked on the YouTube Captions team, in Javascript and Python to plan, to',\n",
       "  'design and develop the full stack to add and edit Automatic Speech Recognition',\n",
       "  'captions. In production.',\n",
       "  '• Created a backbone.js-like framework for the Captions editor.',\n",
       "  'PHABRICATOR | OPEN SOURCE CONTRIBUTOR & TEAM LEADER',\n",
       "  'Jan 2013 – May 2013 | Palo Alto, CA & Ithaca, NY',\n",
       "  '• Phabricator is used daily by Facebook, Dropbox, Quora, Asana and more.',\n",
       "  '• I created the Meme generator and more in PHP and Shell.',\n",
       "  '• Led a team from MIT, Cornell, IC London and UHelsinki for the project.',\n",
       "  'RESEARCH',\n",
       "  'CORNELL ROBOT LEARNING LAB | RESEARCHER',\n",
       "  'Jan 2014 – Jan 2015 | Ithaca, NY',\n",
       "  'Worked with Ashesh Jain and Prof Ashutosh Saxena to create PlanIt, a tool which',\n",
       "  'learns from large scale user preference feedback to plan robot trajectories in human',\n",
       "  'environments.',\n",
       "  'CORNELL PHONETICS LAB | HEAD UNDERGRADUATE RESEARCHER',\n",
       "  'Mar 2012 – May 2013 | Ithaca, NY',\n",
       "  'Led the development of QuickTongue, the ﬁrst ever breakthrough tongue-controlled',\n",
       "  'game with Prof Sam Tilsen to aid in Linguistics research.',\n",
       "  'AWARDS',\n",
       "  '2014',\n",
       "  '2014',\n",
       "  '2013 National',\n",
       "  '7th/120',\n",
       "  '2013',\n",
       "  '2nd/150',\n",
       "  '2012',\n",
       "  '2011 National',\n",
       "  'top 52/2500 KPCB Engineering Fellow',\n",
       "  '1st/50',\n",
       "  'Microsoft Coding Competition, Cornell',\n",
       "  'Jump Trading Challenge Finalist',\n",
       "  'CS 3410 Cache Race Bot Tournament',\n",
       "  'CS 3110 Biannual Intra-Class Bot Tournament',\n",
       "  'Indian National Mathematics Olympiad (INMO) Finalist'],\n",
       " 'company_names': ['deedy@fb.com'],\n",
       " 'no_of_pages': 1,\n",
       " 'total_experience': 12.33}"
      ]
     },
     "execution_count": 26,
     "metadata": {},
     "output_type": "execute_result"
    }
   ],
   "source": [
    "data"
   ]
  },
  {
   "cell_type": "code",
   "execution_count": 27,
   "id": "5a61c34b-ea32-46dd-9440-39eaf4c120c7",
   "metadata": {},
   "outputs": [],
   "source": [
    "name = data['name']"
   ]
  },
  {
   "cell_type": "code",
   "execution_count": 28,
   "id": "0dd538b9-b437-4b6a-b3be-4c3c38b4651f",
   "metadata": {},
   "outputs": [
    {
     "data": {
      "text/plain": [
       "'Debarghya Das'"
      ]
     },
     "execution_count": 28,
     "metadata": {},
     "output_type": "execute_result"
    }
   ],
   "source": [
    "name"
   ]
  },
  {
   "cell_type": "code",
   "execution_count": 29,
   "id": "0e830b94-e7ce-43aa-94df-283bfca3b5f1",
   "metadata": {},
   "outputs": [],
   "source": [
    "email = data['email']"
   ]
  },
  {
   "cell_type": "code",
   "execution_count": 30,
   "id": "6eb8ca34-a7e6-4eb1-91c3-935bce0d63f0",
   "metadata": {},
   "outputs": [
    {
     "data": {
      "text/plain": [
       "'deedy@fb.com'"
      ]
     },
     "execution_count": 30,
     "metadata": {},
     "output_type": "execute_result"
    }
   ],
   "source": [
    "email"
   ]
  },
  {
   "cell_type": "code",
   "execution_count": 31,
   "id": "319b1ad4-3e43-4396-bef4-f1a1b2deeb6e",
   "metadata": {},
   "outputs": [],
   "source": [
    "mobile = data['mobile_number']"
   ]
  },
  {
   "cell_type": "code",
   "execution_count": 32,
   "id": "e4c0671c-6a0f-43cf-9fb8-359f49632c20",
   "metadata": {},
   "outputs": [
    {
     "data": {
      "text/plain": [
       "'607.379.5733'"
      ]
     },
     "execution_count": 32,
     "metadata": {},
     "output_type": "execute_result"
    }
   ],
   "source": [
    "mobile"
   ]
  },
  {
   "cell_type": "code",
   "execution_count": 33,
   "id": "6afd11d4-197e-4766-86f9-6a2b4a522dcf",
   "metadata": {},
   "outputs": [],
   "source": [
    "skills = data['skills']"
   ]
  },
  {
   "cell_type": "code",
   "execution_count": 34,
   "id": "3330f2f1-1ca4-43ab-9e71-4b754bce199c",
   "metadata": {},
   "outputs": [
    {
     "data": {
      "text/plain": [
       "['Engineering',\n",
       " 'Computer science',\n",
       " 'Css',\n",
       " 'Python',\n",
       " 'Javascript',\n",
       " 'C++',\n",
       " 'Research',\n",
       " 'Interactive',\n",
       " 'Matlab',\n",
       " 'Shell',\n",
       " 'Teaching',\n",
       " 'Operating systems',\n",
       " 'Design',\n",
       " 'Facebook',\n",
       " 'Scala',\n",
       " 'C',\n",
       " 'Js',\n",
       " 'Programming',\n",
       " 'Coding',\n",
       " 'Mysql',\n",
       " 'Java',\n",
       " 'Mathematics',\n",
       " 'Php',\n",
       " 'Scripting',\n",
       " 'Android',\n",
       " 'Assembly',\n",
       " 'Robot',\n",
       " 'Plan',\n",
       " 'Software engineering',\n",
       " 'Cloud',\n",
       " 'Unix',\n",
       " 'Ios']"
      ]
     },
     "execution_count": 34,
     "metadata": {},
     "output_type": "execute_result"
    }
   ],
   "source": [
    "skills"
   ]
  },
  {
   "cell_type": "code",
   "execution_count": 35,
   "id": "fd5052e3-bd75-4b3f-86e1-172b388cb96d",
   "metadata": {},
   "outputs": [],
   "source": [
    "import pandas as pd\n",
    "df = pd.DataFrame(skills, columns=['Skills'])"
   ]
  },
  {
   "cell_type": "code",
   "execution_count": 36,
   "id": "6c85818f-c43e-4a01-a1e3-710ff2229cd6",
   "metadata": {},
   "outputs": [
    {
     "data": {
      "text/html": [
       "<div>\n",
       "<style scoped>\n",
       "    .dataframe tbody tr th:only-of-type {\n",
       "        vertical-align: middle;\n",
       "    }\n",
       "\n",
       "    .dataframe tbody tr th {\n",
       "        vertical-align: top;\n",
       "    }\n",
       "\n",
       "    .dataframe thead th {\n",
       "        text-align: right;\n",
       "    }\n",
       "</style>\n",
       "<table border=\"1\" class=\"dataframe\">\n",
       "  <thead>\n",
       "    <tr style=\"text-align: right;\">\n",
       "      <th></th>\n",
       "      <th>Skills</th>\n",
       "    </tr>\n",
       "  </thead>\n",
       "  <tbody>\n",
       "    <tr>\n",
       "      <th>0</th>\n",
       "      <td>Engineering</td>\n",
       "    </tr>\n",
       "    <tr>\n",
       "      <th>1</th>\n",
       "      <td>Computer science</td>\n",
       "    </tr>\n",
       "    <tr>\n",
       "      <th>2</th>\n",
       "      <td>Css</td>\n",
       "    </tr>\n",
       "    <tr>\n",
       "      <th>3</th>\n",
       "      <td>Python</td>\n",
       "    </tr>\n",
       "    <tr>\n",
       "      <th>4</th>\n",
       "      <td>Javascript</td>\n",
       "    </tr>\n",
       "    <tr>\n",
       "      <th>5</th>\n",
       "      <td>C++</td>\n",
       "    </tr>\n",
       "    <tr>\n",
       "      <th>6</th>\n",
       "      <td>Research</td>\n",
       "    </tr>\n",
       "    <tr>\n",
       "      <th>7</th>\n",
       "      <td>Interactive</td>\n",
       "    </tr>\n",
       "    <tr>\n",
       "      <th>8</th>\n",
       "      <td>Matlab</td>\n",
       "    </tr>\n",
       "    <tr>\n",
       "      <th>9</th>\n",
       "      <td>Shell</td>\n",
       "    </tr>\n",
       "    <tr>\n",
       "      <th>10</th>\n",
       "      <td>Teaching</td>\n",
       "    </tr>\n",
       "    <tr>\n",
       "      <th>11</th>\n",
       "      <td>Operating systems</td>\n",
       "    </tr>\n",
       "    <tr>\n",
       "      <th>12</th>\n",
       "      <td>Design</td>\n",
       "    </tr>\n",
       "    <tr>\n",
       "      <th>13</th>\n",
       "      <td>Facebook</td>\n",
       "    </tr>\n",
       "    <tr>\n",
       "      <th>14</th>\n",
       "      <td>Scala</td>\n",
       "    </tr>\n",
       "    <tr>\n",
       "      <th>15</th>\n",
       "      <td>C</td>\n",
       "    </tr>\n",
       "    <tr>\n",
       "      <th>16</th>\n",
       "      <td>Js</td>\n",
       "    </tr>\n",
       "    <tr>\n",
       "      <th>17</th>\n",
       "      <td>Programming</td>\n",
       "    </tr>\n",
       "    <tr>\n",
       "      <th>18</th>\n",
       "      <td>Coding</td>\n",
       "    </tr>\n",
       "    <tr>\n",
       "      <th>19</th>\n",
       "      <td>Mysql</td>\n",
       "    </tr>\n",
       "    <tr>\n",
       "      <th>20</th>\n",
       "      <td>Java</td>\n",
       "    </tr>\n",
       "    <tr>\n",
       "      <th>21</th>\n",
       "      <td>Mathematics</td>\n",
       "    </tr>\n",
       "    <tr>\n",
       "      <th>22</th>\n",
       "      <td>Php</td>\n",
       "    </tr>\n",
       "    <tr>\n",
       "      <th>23</th>\n",
       "      <td>Scripting</td>\n",
       "    </tr>\n",
       "    <tr>\n",
       "      <th>24</th>\n",
       "      <td>Android</td>\n",
       "    </tr>\n",
       "    <tr>\n",
       "      <th>25</th>\n",
       "      <td>Assembly</td>\n",
       "    </tr>\n",
       "    <tr>\n",
       "      <th>26</th>\n",
       "      <td>Robot</td>\n",
       "    </tr>\n",
       "    <tr>\n",
       "      <th>27</th>\n",
       "      <td>Plan</td>\n",
       "    </tr>\n",
       "    <tr>\n",
       "      <th>28</th>\n",
       "      <td>Software engineering</td>\n",
       "    </tr>\n",
       "    <tr>\n",
       "      <th>29</th>\n",
       "      <td>Cloud</td>\n",
       "    </tr>\n",
       "    <tr>\n",
       "      <th>30</th>\n",
       "      <td>Unix</td>\n",
       "    </tr>\n",
       "    <tr>\n",
       "      <th>31</th>\n",
       "      <td>Ios</td>\n",
       "    </tr>\n",
       "  </tbody>\n",
       "</table>\n",
       "</div>"
      ],
      "text/plain": [
       "                  Skills\n",
       "0            Engineering\n",
       "1       Computer science\n",
       "2                    Css\n",
       "3                 Python\n",
       "4             Javascript\n",
       "5                    C++\n",
       "6               Research\n",
       "7            Interactive\n",
       "8                 Matlab\n",
       "9                  Shell\n",
       "10              Teaching\n",
       "11     Operating systems\n",
       "12                Design\n",
       "13              Facebook\n",
       "14                 Scala\n",
       "15                     C\n",
       "16                    Js\n",
       "17           Programming\n",
       "18                Coding\n",
       "19                 Mysql\n",
       "20                  Java\n",
       "21           Mathematics\n",
       "22                   Php\n",
       "23             Scripting\n",
       "24               Android\n",
       "25              Assembly\n",
       "26                 Robot\n",
       "27                  Plan\n",
       "28  Software engineering\n",
       "29                 Cloud\n",
       "30                  Unix\n",
       "31                   Ios"
      ]
     },
     "execution_count": 36,
     "metadata": {},
     "output_type": "execute_result"
    }
   ],
   "source": [
    "df"
   ]
  }
 ],
 "metadata": {
  "kernelspec": {
   "display_name": "Python 3 (ipykernel)",
   "language": "python",
   "name": "python3"
  },
  "language_info": {
   "codemirror_mode": {
    "name": "ipython",
    "version": 3
   },
   "file_extension": ".py",
   "mimetype": "text/x-python",
   "name": "python",
   "nbconvert_exporter": "python",
   "pygments_lexer": "ipython3",
   "version": "3.9.13"
  }
 },
 "nbformat": 4,
 "nbformat_minor": 5
}
