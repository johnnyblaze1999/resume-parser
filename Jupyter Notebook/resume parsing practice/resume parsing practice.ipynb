{
 "cells": [
  {
   "cell_type": "markdown",
   "id": "a1e4fb4c-7b3f-4141-b743-35dbf09b33d3",
   "metadata": {},
   "source": [
    "## Resume Parser"
   ]
  },
  {
   "cell_type": "markdown",
   "id": "fde86608-8572-4f1f-b260-30d4390d103f",
   "metadata": {},
   "source": [
    "### Installation"
   ]
  },
  {
   "cell_type": "markdown",
   "id": "040a094b-8019-4709-adc8-eecb82b25482",
   "metadata": {},
   "source": [
    "Install spacy version 2.3.5:\n",
    "pip install spacy==2.3.5\n",
    "\n",
    "Install en_core_web_sm 2.3.1:\n",
    "pip install https://github.com/explosion/spacy-models/releases/download/en_core_web_sm-2.3.1/en_core_web_sm-2.3.1.tar.gz\n",
    "\n",
    "Install pyreparser:\n",
    "pip install pyresparser\n",
    "\n",
    "#### NOTE: \n",
    "\n",
    "The above program is running on Python 3.9. However, Python 3.10 worked for some people.\n",
    "\n",
    "Remember to run Python in 64 bit. If Resource \u001b[93mstopwords\u001b[0m not found. -> start Python console -> import nltk -> nltk.download('stopwords')"
   ]
  },
  {
   "cell_type": "code",
   "execution_count": 1,
   "id": "381a6c99-050e-4461-910d-1ba32359872e",
   "metadata": {},
   "outputs": [],
   "source": [
    "from pyresparser import ResumeParser"
   ]
  },
  {
   "cell_type": "code",
   "execution_count": 2,
   "id": "8a832351-e9d6-42db-b86b-5a11d09adcd1",
   "metadata": {},
   "outputs": [],
   "source": [
    "# import en_core_web_sm\n",
    "# nlp = en_core_web_sm.load()"
   ]
  },
  {
   "cell_type": "code",
   "execution_count": 3,
   "id": "9cd63351-216b-4b20-9c3b-5ce0855b03dc",
   "metadata": {},
   "outputs": [],
   "source": [
    "# import PyPDF2\n",
    "# import os"
   ]
  },
  {
   "cell_type": "markdown",
   "id": "dbf98897-d5ae-45eb-b5b9-1532b5050225",
   "metadata": {},
   "source": [
    "#### Ignore the warning messages"
   ]
  },
  {
   "cell_type": "code",
   "execution_count": 29,
   "id": "9a4f5b1a-28e9-47ce-8ebd-4675009e18cd",
   "metadata": {},
   "outputs": [],
   "source": [
    "import warnings\n",
    "warnings.filterwarnings(\"ignore\", category=UserWarning)"
   ]
  },
  {
   "cell_type": "markdown",
   "id": "10b09715-964c-47f5-b629-26d72d7e12e2",
   "metadata": {},
   "source": [
    "#### Parsing"
   ]
  },
  {
   "cell_type": "code",
   "execution_count": 32,
   "id": "70dd34c5-6516-4f48-95cc-15bdd6435837",
   "metadata": {},
   "outputs": [
    {
     "ename": "FileNotFoundError",
     "evalue": "[Errno 2] No such file or directory: 'D:\\\\Downloads\\\\Firefox Download\\\\Jake_s_Resume.pdf'",
     "output_type": "error",
     "traceback": [
      "\u001b[1;31m---------------------------------------------------------------------------\u001b[0m",
      "\u001b[1;31mFileNotFoundError\u001b[0m                         Traceback (most recent call last)",
      "Cell \u001b[1;32mIn[32], line 1\u001b[0m\n\u001b[1;32m----> 1\u001b[0m data \u001b[38;5;241m=\u001b[39m \u001b[43mResumeParser\u001b[49m\u001b[43m(\u001b[49m\u001b[38;5;124;43mr\u001b[39;49m\u001b[38;5;124;43m\"\u001b[39;49m\u001b[38;5;124;43mD:\u001b[39;49m\u001b[38;5;124;43m\\\u001b[39;49m\u001b[38;5;124;43mDownloads\u001b[39;49m\u001b[38;5;124;43m\\\u001b[39;49m\u001b[38;5;124;43mFirefox Download\u001b[39;49m\u001b[38;5;124;43m\\\u001b[39;49m\u001b[38;5;124;43mJake_s_Resume.pdf\u001b[39;49m\u001b[38;5;124;43m\"\u001b[39;49m\u001b[43m)\u001b[49m\u001b[38;5;241m.\u001b[39mget_extracted_data()\n",
      "File \u001b[1;32m~\\AppData\\Local\\Packages\\PythonSoftwareFoundation.Python.3.9_qbz5n2kfra8p0\\LocalCache\\local-packages\\Python39\\site-packages\\pyresparser\\resume_parser.py:43\u001b[0m, in \u001b[0;36mResumeParser.__init__\u001b[1;34m(self, resume, skills_file, custom_regex)\u001b[0m\n\u001b[0;32m     41\u001b[0m \u001b[38;5;28;01melse\u001b[39;00m:\n\u001b[0;32m     42\u001b[0m     ext \u001b[38;5;241m=\u001b[39m \u001b[38;5;28mself\u001b[39m\u001b[38;5;241m.\u001b[39m__resume\u001b[38;5;241m.\u001b[39mname\u001b[38;5;241m.\u001b[39msplit(\u001b[38;5;124m'\u001b[39m\u001b[38;5;124m.\u001b[39m\u001b[38;5;124m'\u001b[39m)[\u001b[38;5;241m1\u001b[39m]\n\u001b[1;32m---> 43\u001b[0m \u001b[38;5;28mself\u001b[39m\u001b[38;5;241m.\u001b[39m__text_raw \u001b[38;5;241m=\u001b[39m \u001b[43mutils\u001b[49m\u001b[38;5;241;43m.\u001b[39;49m\u001b[43mextract_text\u001b[49m\u001b[43m(\u001b[49m\u001b[38;5;28;43mself\u001b[39;49m\u001b[38;5;241;43m.\u001b[39;49m\u001b[43m__resume\u001b[49m\u001b[43m,\u001b[49m\u001b[43m \u001b[49m\u001b[38;5;124;43m'\u001b[39;49m\u001b[38;5;124;43m.\u001b[39;49m\u001b[38;5;124;43m'\u001b[39;49m\u001b[43m \u001b[49m\u001b[38;5;241;43m+\u001b[39;49m\u001b[43m \u001b[49m\u001b[43mext\u001b[49m\u001b[43m)\u001b[49m\n\u001b[0;32m     44\u001b[0m \u001b[38;5;28mself\u001b[39m\u001b[38;5;241m.\u001b[39m__text \u001b[38;5;241m=\u001b[39m \u001b[38;5;124m'\u001b[39m\u001b[38;5;124m \u001b[39m\u001b[38;5;124m'\u001b[39m\u001b[38;5;241m.\u001b[39mjoin(\u001b[38;5;28mself\u001b[39m\u001b[38;5;241m.\u001b[39m__text_raw\u001b[38;5;241m.\u001b[39msplit())\n\u001b[0;32m     45\u001b[0m \u001b[38;5;28mself\u001b[39m\u001b[38;5;241m.\u001b[39m__nlp \u001b[38;5;241m=\u001b[39m nlp(\u001b[38;5;28mself\u001b[39m\u001b[38;5;241m.\u001b[39m__text)\n",
      "File \u001b[1;32m~\\AppData\\Local\\Packages\\PythonSoftwareFoundation.Python.3.9_qbz5n2kfra8p0\\LocalCache\\local-packages\\Python39\\site-packages\\pyresparser\\utils.py:166\u001b[0m, in \u001b[0;36mextract_text\u001b[1;34m(file_path, extension)\u001b[0m\n\u001b[0;32m    164\u001b[0m text \u001b[38;5;241m=\u001b[39m \u001b[38;5;124m'\u001b[39m\u001b[38;5;124m'\u001b[39m\n\u001b[0;32m    165\u001b[0m \u001b[38;5;28;01mif\u001b[39;00m extension \u001b[38;5;241m==\u001b[39m \u001b[38;5;124m'\u001b[39m\u001b[38;5;124m.pdf\u001b[39m\u001b[38;5;124m'\u001b[39m:\n\u001b[1;32m--> 166\u001b[0m     \u001b[38;5;28;01mfor\u001b[39;00m page \u001b[38;5;129;01min\u001b[39;00m extract_text_from_pdf(file_path):\n\u001b[0;32m    167\u001b[0m         text \u001b[38;5;241m+\u001b[39m\u001b[38;5;241m=\u001b[39m \u001b[38;5;124m'\u001b[39m\u001b[38;5;124m \u001b[39m\u001b[38;5;124m'\u001b[39m \u001b[38;5;241m+\u001b[39m page\n\u001b[0;32m    168\u001b[0m \u001b[38;5;28;01melif\u001b[39;00m extension \u001b[38;5;241m==\u001b[39m \u001b[38;5;124m'\u001b[39m\u001b[38;5;124m.docx\u001b[39m\u001b[38;5;124m'\u001b[39m:\n",
      "File \u001b[1;32m~\\AppData\\Local\\Packages\\PythonSoftwareFoundation.Python.3.9_qbz5n2kfra8p0\\LocalCache\\local-packages\\Python39\\site-packages\\pyresparser\\utils.py:32\u001b[0m, in \u001b[0;36mextract_text_from_pdf\u001b[1;34m(pdf_path)\u001b[0m\n\u001b[0;32m     29\u001b[0m \u001b[38;5;66;03m# https://www.blog.pythonlibrary.org/2018/05/03/exporting-data-from-pdfs-with-python/\u001b[39;00m\n\u001b[0;32m     30\u001b[0m \u001b[38;5;28;01mif\u001b[39;00m \u001b[38;5;129;01mnot\u001b[39;00m \u001b[38;5;28misinstance\u001b[39m(pdf_path, io\u001b[38;5;241m.\u001b[39mBytesIO):\n\u001b[0;32m     31\u001b[0m     \u001b[38;5;66;03m# extract text from local pdf file\u001b[39;00m\n\u001b[1;32m---> 32\u001b[0m     \u001b[38;5;28;01mwith\u001b[39;00m \u001b[38;5;28;43mopen\u001b[39;49m\u001b[43m(\u001b[49m\u001b[43mpdf_path\u001b[49m\u001b[43m,\u001b[49m\u001b[43m \u001b[49m\u001b[38;5;124;43m'\u001b[39;49m\u001b[38;5;124;43mrb\u001b[39;49m\u001b[38;5;124;43m'\u001b[39;49m\u001b[43m)\u001b[49m \u001b[38;5;28;01mas\u001b[39;00m fh:\n\u001b[0;32m     33\u001b[0m         \u001b[38;5;28;01mtry\u001b[39;00m:\n\u001b[0;32m     34\u001b[0m             \u001b[38;5;28;01mfor\u001b[39;00m page \u001b[38;5;129;01min\u001b[39;00m PDFPage\u001b[38;5;241m.\u001b[39mget_pages(\n\u001b[0;32m     35\u001b[0m                     fh,\n\u001b[0;32m     36\u001b[0m                     caching\u001b[38;5;241m=\u001b[39m\u001b[38;5;28;01mTrue\u001b[39;00m,\n\u001b[0;32m     37\u001b[0m                     check_extractable\u001b[38;5;241m=\u001b[39m\u001b[38;5;28;01mTrue\u001b[39;00m\n\u001b[0;32m     38\u001b[0m             ):\n",
      "\u001b[1;31mFileNotFoundError\u001b[0m: [Errno 2] No such file or directory: 'D:\\\\Downloads\\\\Firefox Download\\\\Jake_s_Resume.pdf'"
     ]
    }
   ],
   "source": [
    "data = ResumeParser(r\"D:\\Downloads\\Firefox Download\\Jake_s_Resume.pdf\").get_extracted_data()"
   ]
  },
  {
   "cell_type": "code",
   "execution_count": null,
   "id": "1881d2b6-2d39-4ebe-ba19-44b39f00dd06",
   "metadata": {},
   "outputs": [],
   "source": [
    "data"
   ]
  },
  {
   "cell_type": "code",
   "execution_count": 7,
   "id": "5a61c34b-ea32-46dd-9440-39eaf4c120c7",
   "metadata": {},
   "outputs": [],
   "source": [
    "name = data['name']"
   ]
  },
  {
   "cell_type": "code",
   "execution_count": 8,
   "id": "0dd538b9-b437-4b6a-b3be-4c3c38b4651f",
   "metadata": {},
   "outputs": [
    {
     "data": {
      "text/plain": [
       "'| johnnyblaze1999.sg@gmail.com'"
      ]
     },
     "execution_count": 8,
     "metadata": {},
     "output_type": "execute_result"
    }
   ],
   "source": [
    "name"
   ]
  },
  {
   "cell_type": "code",
   "execution_count": 9,
   "id": "0e830b94-e7ce-43aa-94df-283bfca3b5f1",
   "metadata": {},
   "outputs": [],
   "source": [
    "email = data['email']"
   ]
  },
  {
   "cell_type": "code",
   "execution_count": 10,
   "id": "6eb8ca34-a7e6-4eb1-91c3-935bce0d63f0",
   "metadata": {},
   "outputs": [
    {
     "data": {
      "text/plain": [
       "'johnnyblaze1999.sg@gmail.com'"
      ]
     },
     "execution_count": 10,
     "metadata": {},
     "output_type": "execute_result"
    }
   ],
   "source": [
    "email"
   ]
  },
  {
   "cell_type": "code",
   "execution_count": 11,
   "id": "319b1ad4-3e43-4396-bef4-f1a1b2deeb6e",
   "metadata": {},
   "outputs": [],
   "source": [
    "mobile = data['mobile_number']"
   ]
  },
  {
   "cell_type": "code",
   "execution_count": 12,
   "id": "e4c0671c-6a0f-43cf-9fb8-359f49632c20",
   "metadata": {},
   "outputs": [
    {
     "data": {
      "text/plain": [
       "'951-456-5500'"
      ]
     },
     "execution_count": 12,
     "metadata": {},
     "output_type": "execute_result"
    }
   ],
   "source": [
    "mobile"
   ]
  },
  {
   "cell_type": "code",
   "execution_count": 13,
   "id": "6afd11d4-197e-4766-86f9-6a2b4a522dcf",
   "metadata": {},
   "outputs": [],
   "source": [
    "skills = data['skills']"
   ]
  },
  {
   "cell_type": "code",
   "execution_count": 14,
   "id": "3330f2f1-1ca4-43ab-9e71-4b754bce199c",
   "metadata": {},
   "outputs": [
    {
     "data": {
      "text/plain": [
       "['Word',\n",
       " 'Ai',\n",
       " 'Reporting',\n",
       " 'C',\n",
       " 'Javascript',\n",
       " 'System',\n",
       " 'Linux',\n",
       " 'Api',\n",
       " 'Improvement',\n",
       " 'Policies',\n",
       " 'Mysql',\n",
       " 'Computer science',\n",
       " 'Schedules',\n",
       " 'Html',\n",
       " 'Certification',\n",
       " 'Visual',\n",
       " 'Unix',\n",
       " 'Java',\n",
       " 'Sql',\n",
       " 'Pandas',\n",
       " 'Operations',\n",
       " 'Numpy',\n",
       " 'Css',\n",
       " 'Design',\n",
       " 'Powerpoint',\n",
       " 'C++',\n",
       " 'Database',\n",
       " 'Technical',\n",
       " 'Python',\n",
       " 'Php']"
      ]
     },
     "execution_count": 14,
     "metadata": {},
     "output_type": "execute_result"
    }
   ],
   "source": [
    "skills"
   ]
  },
  {
   "cell_type": "code",
   "execution_count": 15,
   "id": "fd5052e3-bd75-4b3f-86e1-172b388cb96d",
   "metadata": {},
   "outputs": [],
   "source": [
    "import pandas as pd\n",
    "df = pd.DataFrame(skills, columns=['Skills'])"
   ]
  },
  {
   "cell_type": "code",
   "execution_count": 16,
   "id": "6c85818f-c43e-4a01-a1e3-710ff2229cd6",
   "metadata": {},
   "outputs": [
    {
     "data": {
      "text/html": [
       "<div>\n",
       "<style scoped>\n",
       "    .dataframe tbody tr th:only-of-type {\n",
       "        vertical-align: middle;\n",
       "    }\n",
       "\n",
       "    .dataframe tbody tr th {\n",
       "        vertical-align: top;\n",
       "    }\n",
       "\n",
       "    .dataframe thead th {\n",
       "        text-align: right;\n",
       "    }\n",
       "</style>\n",
       "<table border=\"1\" class=\"dataframe\">\n",
       "  <thead>\n",
       "    <tr style=\"text-align: right;\">\n",
       "      <th></th>\n",
       "      <th>Skills</th>\n",
       "    </tr>\n",
       "  </thead>\n",
       "  <tbody>\n",
       "    <tr>\n",
       "      <th>0</th>\n",
       "      <td>Word</td>\n",
       "    </tr>\n",
       "    <tr>\n",
       "      <th>1</th>\n",
       "      <td>Ai</td>\n",
       "    </tr>\n",
       "    <tr>\n",
       "      <th>2</th>\n",
       "      <td>Reporting</td>\n",
       "    </tr>\n",
       "    <tr>\n",
       "      <th>3</th>\n",
       "      <td>C</td>\n",
       "    </tr>\n",
       "    <tr>\n",
       "      <th>4</th>\n",
       "      <td>Javascript</td>\n",
       "    </tr>\n",
       "    <tr>\n",
       "      <th>5</th>\n",
       "      <td>System</td>\n",
       "    </tr>\n",
       "    <tr>\n",
       "      <th>6</th>\n",
       "      <td>Linux</td>\n",
       "    </tr>\n",
       "    <tr>\n",
       "      <th>7</th>\n",
       "      <td>Api</td>\n",
       "    </tr>\n",
       "    <tr>\n",
       "      <th>8</th>\n",
       "      <td>Improvement</td>\n",
       "    </tr>\n",
       "    <tr>\n",
       "      <th>9</th>\n",
       "      <td>Policies</td>\n",
       "    </tr>\n",
       "    <tr>\n",
       "      <th>10</th>\n",
       "      <td>Mysql</td>\n",
       "    </tr>\n",
       "    <tr>\n",
       "      <th>11</th>\n",
       "      <td>Computer science</td>\n",
       "    </tr>\n",
       "    <tr>\n",
       "      <th>12</th>\n",
       "      <td>Schedules</td>\n",
       "    </tr>\n",
       "    <tr>\n",
       "      <th>13</th>\n",
       "      <td>Html</td>\n",
       "    </tr>\n",
       "    <tr>\n",
       "      <th>14</th>\n",
       "      <td>Certification</td>\n",
       "    </tr>\n",
       "    <tr>\n",
       "      <th>15</th>\n",
       "      <td>Visual</td>\n",
       "    </tr>\n",
       "    <tr>\n",
       "      <th>16</th>\n",
       "      <td>Unix</td>\n",
       "    </tr>\n",
       "    <tr>\n",
       "      <th>17</th>\n",
       "      <td>Java</td>\n",
       "    </tr>\n",
       "    <tr>\n",
       "      <th>18</th>\n",
       "      <td>Sql</td>\n",
       "    </tr>\n",
       "    <tr>\n",
       "      <th>19</th>\n",
       "      <td>Pandas</td>\n",
       "    </tr>\n",
       "    <tr>\n",
       "      <th>20</th>\n",
       "      <td>Operations</td>\n",
       "    </tr>\n",
       "    <tr>\n",
       "      <th>21</th>\n",
       "      <td>Numpy</td>\n",
       "    </tr>\n",
       "    <tr>\n",
       "      <th>22</th>\n",
       "      <td>Css</td>\n",
       "    </tr>\n",
       "    <tr>\n",
       "      <th>23</th>\n",
       "      <td>Design</td>\n",
       "    </tr>\n",
       "    <tr>\n",
       "      <th>24</th>\n",
       "      <td>Powerpoint</td>\n",
       "    </tr>\n",
       "    <tr>\n",
       "      <th>25</th>\n",
       "      <td>C++</td>\n",
       "    </tr>\n",
       "    <tr>\n",
       "      <th>26</th>\n",
       "      <td>Database</td>\n",
       "    </tr>\n",
       "    <tr>\n",
       "      <th>27</th>\n",
       "      <td>Technical</td>\n",
       "    </tr>\n",
       "    <tr>\n",
       "      <th>28</th>\n",
       "      <td>Python</td>\n",
       "    </tr>\n",
       "    <tr>\n",
       "      <th>29</th>\n",
       "      <td>Php</td>\n",
       "    </tr>\n",
       "  </tbody>\n",
       "</table>\n",
       "</div>"
      ],
      "text/plain": [
       "              Skills\n",
       "0               Word\n",
       "1                 Ai\n",
       "2          Reporting\n",
       "3                  C\n",
       "4         Javascript\n",
       "5             System\n",
       "6              Linux\n",
       "7                Api\n",
       "8        Improvement\n",
       "9           Policies\n",
       "10             Mysql\n",
       "11  Computer science\n",
       "12         Schedules\n",
       "13              Html\n",
       "14     Certification\n",
       "15            Visual\n",
       "16              Unix\n",
       "17              Java\n",
       "18               Sql\n",
       "19            Pandas\n",
       "20        Operations\n",
       "21             Numpy\n",
       "22               Css\n",
       "23            Design\n",
       "24        Powerpoint\n",
       "25               C++\n",
       "26          Database\n",
       "27         Technical\n",
       "28            Python\n",
       "29               Php"
      ]
     },
     "execution_count": 16,
     "metadata": {},
     "output_type": "execute_result"
    }
   ],
   "source": [
    "df"
   ]
  }
 ],
 "metadata": {
  "kernelspec": {
   "display_name": "Python 3 (ipykernel)",
   "language": "python",
   "name": "python3"
  },
  "language_info": {
   "codemirror_mode": {
    "name": "ipython",
    "version": 3
   },
   "file_extension": ".py",
   "mimetype": "text/x-python",
   "name": "python",
   "nbconvert_exporter": "python",
   "pygments_lexer": "ipython3",
   "version": "3.9.13"
  }
 },
 "nbformat": 4,
 "nbformat_minor": 5
}
