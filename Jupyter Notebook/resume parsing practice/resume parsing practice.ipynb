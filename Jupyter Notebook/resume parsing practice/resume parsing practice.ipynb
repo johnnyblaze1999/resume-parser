{
 "cells": [
  {
   "cell_type": "markdown",
   "id": "a1e4fb4c-7b3f-4141-b743-35dbf09b33d3",
   "metadata": {},
   "source": [
    "## Resume Parser"
   ]
  },
  {
   "cell_type": "markdown",
   "id": "fde86608-8572-4f1f-b260-30d4390d103f",
   "metadata": {},
   "source": [
    "### Installation"
   ]
  },
  {
   "cell_type": "markdown",
   "id": "040a094b-8019-4709-adc8-eecb82b25482",
   "metadata": {},
   "source": [
    "Install spacy version 2.3.5:\n",
    "pip install spacy==2.3.5\n",
    "\n",
    "Install en_core_web_sm 2.3.1:\n",
    "pip install https://github.com/explosion/spacy-models/releases/download/en_core_web_sm-2.3.1/en_core_web_sm-2.3.1.tar.gz\n",
    "\n",
    "Install pyreparser:\n",
    "pip install pyresparser\n",
    "\n",
    "#### NOTE: \n",
    "\n",
    "The above program is running on Python 3.9. However, Python 3.10 worked for some people.\n",
    "\n",
    "Remember to run Python in 64 bit. If Resource \u001b[93mstopwords\u001b[0m not found. -> start Python console -> import nltk -> nltk.download('stopwords')"
   ]
  },
  {
   "cell_type": "code",
   "execution_count": 3,
   "id": "381a6c99-050e-4461-910d-1ba32359872e",
   "metadata": {},
   "outputs": [],
   "source": [
    "from pyresparser import ResumeParser"
   ]
  },
  {
   "cell_type": "code",
   "execution_count": 4,
   "id": "8a832351-e9d6-42db-b86b-5a11d09adcd1",
   "metadata": {},
   "outputs": [],
   "source": [
    "# import en_core_web_sm\n",
    "# nlp = en_core_web_sm.load()"
   ]
  },
  {
   "cell_type": "code",
   "execution_count": 5,
   "id": "9cd63351-216b-4b20-9c3b-5ce0855b03dc",
   "metadata": {},
   "outputs": [],
   "source": [
    "# import PyPDF2\n",
    "# import os"
   ]
  },
  {
   "cell_type": "markdown",
   "id": "dbf98897-d5ae-45eb-b5b9-1532b5050225",
   "metadata": {},
   "source": [
    "#### Ignore the warning messages"
   ]
  },
  {
   "cell_type": "code",
   "execution_count": 6,
   "id": "9a4f5b1a-28e9-47ce-8ebd-4675009e18cd",
   "metadata": {},
   "outputs": [],
   "source": [
    "import warnings\n",
    "warnings.filterwarnings(\"ignore\", category=UserWarning)"
   ]
  },
  {
   "cell_type": "markdown",
   "id": "10b09715-964c-47f5-b629-26d72d7e12e2",
   "metadata": {},
   "source": [
    "#### Parsing"
   ]
  },
  {
   "cell_type": "code",
   "execution_count": 7,
   "id": "70dd34c5-6516-4f48-95cc-15bdd6435837",
   "metadata": {},
   "outputs": [],
   "source": [
    "data = ResumeParser(\"jakes-resume.pdf\").get_extracted_data()"
   ]
  },
  {
   "cell_type": "code",
   "execution_count": 8,
   "id": "1881d2b6-2d39-4ebe-ba19-44b39f00dd06",
   "metadata": {},
   "outputs": [
    {
     "data": {
      "text/plain": [
       "{'name': 'Jake Ryan',\n",
       " 'email': 'jake@su.edu',\n",
       " 'mobile_number': '123-456-7890',\n",
       " 'skills': ['Numpy',\n",
       "  'Flask',\n",
       "  'Api',\n",
       "  'C',\n",
       "  'Postgresql',\n",
       "  'Css',\n",
       "  'Technical',\n",
       "  'Pandas',\n",
       "  'Presentations',\n",
       "  'Java',\n",
       "  'Javascript',\n",
       "  'Rest',\n",
       "  'Github',\n",
       "  'Ui',\n",
       "  'Pycharm',\n",
       "  'Wordpress',\n",
       "  'Video',\n",
       "  'Analyze',\n",
       "  'Celery',\n",
       "  'Html',\n",
       "  'Research',\n",
       "  'Python',\n",
       "  'Visual',\n",
       "  'Docker',\n",
       "  'Matplotlib',\n",
       "  'Sql',\n",
       "  'Computer science',\n",
       "  'Cloud',\n",
       "  'C++',\n",
       "  'R'],\n",
       " 'college_name': None,\n",
       " 'degree': ['Bachelor of Arts in Computer Science'],\n",
       " 'designation': ['Undergraduate Research Assistant'],\n",
       " 'experience': ['Undergraduate Research Assistant',\n",
       "  'Texas A&M University',\n",
       "  'Georgetown, TX',\n",
       "  'Aug. 2018 – May 2021',\n",
       "  'Bryan, TX',\n",
       "  'Aug. 2014 – May 2018',\n",
       "  'June 2020 – Present',\n",
       "  'College Station, TX',\n",
       "  '• Developed a REST API using FastAPI and PostgreSQL to store data from learning management systems',\n",
       "  '• Developed a full-stack web application using Flask, React, PostgreSQL and Docker to analyze GitHub data',\n",
       "  '• Explored ways to visualize GitHub collaboration in a classroom setting',\n",
       "  'Information Technology Support Specialist',\n",
       "  'Southwestern University',\n",
       "  'Sep. 2018 – Present',\n",
       "  'Georgetown, TX',\n",
       "  '• Communicate with managers to set up campus computers used on campus',\n",
       "  '• Assess and troubleshoot computer problems brought by students, faculty and staff',\n",
       "  '• Maintain upkeep of computers, classroom equipment, and 200 printers across campus',\n",
       "  'Artificial Intelligence Research Assistant',\n",
       "  'Southwestern University',\n",
       "  'May 2019 – July 2019',\n",
       "  'Georgetown, TX',\n",
       "  '• Explored methods to generate video game dungeons based off of The Legend of Zelda',\n",
       "  '• Developed a game in Java to test the generated dungeons',\n",
       "  '• Contributed 50K+ lines of code to an established codebase via Git',\n",
       "  '• Conducted a human subject study to determine which video game dungeon generation technique is enjoyable',\n",
       "  '• Wrote an 8-page paper and gave multiple presentations on-campus',\n",
       "  '• Presented virtually to the World Conference on Computational Intelligence'],\n",
       " 'company_names': ['Artificial Intelligence Research Assistant'],\n",
       " 'no_of_pages': 1,\n",
       " 'total_experience': 4.08}"
      ]
     },
     "execution_count": 8,
     "metadata": {},
     "output_type": "execute_result"
    }
   ],
   "source": [
    "data"
   ]
  },
  {
   "cell_type": "code",
   "execution_count": 9,
   "id": "5a61c34b-ea32-46dd-9440-39eaf4c120c7",
   "metadata": {},
   "outputs": [],
   "source": [
    "name = data['name']"
   ]
  },
  {
   "cell_type": "code",
   "execution_count": 10,
   "id": "0dd538b9-b437-4b6a-b3be-4c3c38b4651f",
   "metadata": {},
   "outputs": [
    {
     "data": {
      "text/plain": [
       "'Jake Ryan'"
      ]
     },
     "execution_count": 10,
     "metadata": {},
     "output_type": "execute_result"
    }
   ],
   "source": [
    "name"
   ]
  },
  {
   "cell_type": "code",
   "execution_count": 11,
   "id": "0e830b94-e7ce-43aa-94df-283bfca3b5f1",
   "metadata": {},
   "outputs": [],
   "source": [
    "email = data['email']"
   ]
  },
  {
   "cell_type": "code",
   "execution_count": 12,
   "id": "6eb8ca34-a7e6-4eb1-91c3-935bce0d63f0",
   "metadata": {},
   "outputs": [
    {
     "data": {
      "text/plain": [
       "'jake@su.edu'"
      ]
     },
     "execution_count": 12,
     "metadata": {},
     "output_type": "execute_result"
    }
   ],
   "source": [
    "email"
   ]
  },
  {
   "cell_type": "code",
   "execution_count": 13,
   "id": "319b1ad4-3e43-4396-bef4-f1a1b2deeb6e",
   "metadata": {},
   "outputs": [],
   "source": [
    "mobile = data['mobile_number']"
   ]
  },
  {
   "cell_type": "code",
   "execution_count": 14,
   "id": "e4c0671c-6a0f-43cf-9fb8-359f49632c20",
   "metadata": {},
   "outputs": [
    {
     "data": {
      "text/plain": [
       "'123-456-7890'"
      ]
     },
     "execution_count": 14,
     "metadata": {},
     "output_type": "execute_result"
    }
   ],
   "source": [
    "mobile"
   ]
  },
  {
   "cell_type": "code",
   "execution_count": 15,
   "id": "6afd11d4-197e-4766-86f9-6a2b4a522dcf",
   "metadata": {},
   "outputs": [],
   "source": [
    "skills = data['skills']"
   ]
  },
  {
   "cell_type": "code",
   "execution_count": 16,
   "id": "3330f2f1-1ca4-43ab-9e71-4b754bce199c",
   "metadata": {},
   "outputs": [
    {
     "data": {
      "text/plain": [
       "['Numpy',\n",
       " 'Flask',\n",
       " 'Api',\n",
       " 'C',\n",
       " 'Postgresql',\n",
       " 'Css',\n",
       " 'Technical',\n",
       " 'Pandas',\n",
       " 'Presentations',\n",
       " 'Java',\n",
       " 'Javascript',\n",
       " 'Rest',\n",
       " 'Github',\n",
       " 'Ui',\n",
       " 'Pycharm',\n",
       " 'Wordpress',\n",
       " 'Video',\n",
       " 'Analyze',\n",
       " 'Celery',\n",
       " 'Html',\n",
       " 'Research',\n",
       " 'Python',\n",
       " 'Visual',\n",
       " 'Docker',\n",
       " 'Matplotlib',\n",
       " 'Sql',\n",
       " 'Computer science',\n",
       " 'Cloud',\n",
       " 'C++',\n",
       " 'R']"
      ]
     },
     "execution_count": 16,
     "metadata": {},
     "output_type": "execute_result"
    }
   ],
   "source": [
    "skills"
   ]
  },
  {
   "cell_type": "code",
   "execution_count": 17,
   "id": "fd5052e3-bd75-4b3f-86e1-172b388cb96d",
   "metadata": {},
   "outputs": [],
   "source": [
    "import pandas as pd\n",
    "df = pd.DataFrame(skills, columns=['Skills'])"
   ]
  },
  {
   "cell_type": "code",
   "execution_count": 18,
   "id": "6c85818f-c43e-4a01-a1e3-710ff2229cd6",
   "metadata": {},
   "outputs": [
    {
     "data": {
      "text/html": [
       "<div>\n",
       "<style scoped>\n",
       "    .dataframe tbody tr th:only-of-type {\n",
       "        vertical-align: middle;\n",
       "    }\n",
       "\n",
       "    .dataframe tbody tr th {\n",
       "        vertical-align: top;\n",
       "    }\n",
       "\n",
       "    .dataframe thead th {\n",
       "        text-align: right;\n",
       "    }\n",
       "</style>\n",
       "<table border=\"1\" class=\"dataframe\">\n",
       "  <thead>\n",
       "    <tr style=\"text-align: right;\">\n",
       "      <th></th>\n",
       "      <th>Skills</th>\n",
       "    </tr>\n",
       "  </thead>\n",
       "  <tbody>\n",
       "    <tr>\n",
       "      <th>0</th>\n",
       "      <td>Numpy</td>\n",
       "    </tr>\n",
       "    <tr>\n",
       "      <th>1</th>\n",
       "      <td>Flask</td>\n",
       "    </tr>\n",
       "    <tr>\n",
       "      <th>2</th>\n",
       "      <td>Api</td>\n",
       "    </tr>\n",
       "    <tr>\n",
       "      <th>3</th>\n",
       "      <td>C</td>\n",
       "    </tr>\n",
       "    <tr>\n",
       "      <th>4</th>\n",
       "      <td>Postgresql</td>\n",
       "    </tr>\n",
       "    <tr>\n",
       "      <th>5</th>\n",
       "      <td>Css</td>\n",
       "    </tr>\n",
       "    <tr>\n",
       "      <th>6</th>\n",
       "      <td>Technical</td>\n",
       "    </tr>\n",
       "    <tr>\n",
       "      <th>7</th>\n",
       "      <td>Pandas</td>\n",
       "    </tr>\n",
       "    <tr>\n",
       "      <th>8</th>\n",
       "      <td>Presentations</td>\n",
       "    </tr>\n",
       "    <tr>\n",
       "      <th>9</th>\n",
       "      <td>Java</td>\n",
       "    </tr>\n",
       "    <tr>\n",
       "      <th>10</th>\n",
       "      <td>Javascript</td>\n",
       "    </tr>\n",
       "    <tr>\n",
       "      <th>11</th>\n",
       "      <td>Rest</td>\n",
       "    </tr>\n",
       "    <tr>\n",
       "      <th>12</th>\n",
       "      <td>Github</td>\n",
       "    </tr>\n",
       "    <tr>\n",
       "      <th>13</th>\n",
       "      <td>Ui</td>\n",
       "    </tr>\n",
       "    <tr>\n",
       "      <th>14</th>\n",
       "      <td>Pycharm</td>\n",
       "    </tr>\n",
       "    <tr>\n",
       "      <th>15</th>\n",
       "      <td>Wordpress</td>\n",
       "    </tr>\n",
       "    <tr>\n",
       "      <th>16</th>\n",
       "      <td>Video</td>\n",
       "    </tr>\n",
       "    <tr>\n",
       "      <th>17</th>\n",
       "      <td>Analyze</td>\n",
       "    </tr>\n",
       "    <tr>\n",
       "      <th>18</th>\n",
       "      <td>Celery</td>\n",
       "    </tr>\n",
       "    <tr>\n",
       "      <th>19</th>\n",
       "      <td>Html</td>\n",
       "    </tr>\n",
       "    <tr>\n",
       "      <th>20</th>\n",
       "      <td>Research</td>\n",
       "    </tr>\n",
       "    <tr>\n",
       "      <th>21</th>\n",
       "      <td>Python</td>\n",
       "    </tr>\n",
       "    <tr>\n",
       "      <th>22</th>\n",
       "      <td>Visual</td>\n",
       "    </tr>\n",
       "    <tr>\n",
       "      <th>23</th>\n",
       "      <td>Docker</td>\n",
       "    </tr>\n",
       "    <tr>\n",
       "      <th>24</th>\n",
       "      <td>Matplotlib</td>\n",
       "    </tr>\n",
       "    <tr>\n",
       "      <th>25</th>\n",
       "      <td>Sql</td>\n",
       "    </tr>\n",
       "    <tr>\n",
       "      <th>26</th>\n",
       "      <td>Computer science</td>\n",
       "    </tr>\n",
       "    <tr>\n",
       "      <th>27</th>\n",
       "      <td>Cloud</td>\n",
       "    </tr>\n",
       "    <tr>\n",
       "      <th>28</th>\n",
       "      <td>C++</td>\n",
       "    </tr>\n",
       "    <tr>\n",
       "      <th>29</th>\n",
       "      <td>R</td>\n",
       "    </tr>\n",
       "  </tbody>\n",
       "</table>\n",
       "</div>"
      ],
      "text/plain": [
       "              Skills\n",
       "0              Numpy\n",
       "1              Flask\n",
       "2                Api\n",
       "3                  C\n",
       "4         Postgresql\n",
       "5                Css\n",
       "6          Technical\n",
       "7             Pandas\n",
       "8      Presentations\n",
       "9               Java\n",
       "10        Javascript\n",
       "11              Rest\n",
       "12            Github\n",
       "13                Ui\n",
       "14           Pycharm\n",
       "15         Wordpress\n",
       "16             Video\n",
       "17           Analyze\n",
       "18            Celery\n",
       "19              Html\n",
       "20          Research\n",
       "21            Python\n",
       "22            Visual\n",
       "23            Docker\n",
       "24        Matplotlib\n",
       "25               Sql\n",
       "26  Computer science\n",
       "27             Cloud\n",
       "28               C++\n",
       "29                 R"
      ]
     },
     "execution_count": 18,
     "metadata": {},
     "output_type": "execute_result"
    }
   ],
   "source": [
    "df"
   ]
  },
  {
   "cell_type": "code",
   "execution_count": null,
   "id": "bd0c740b-8404-4009-b802-fa0f171eb825",
   "metadata": {},
   "outputs": [],
   "source": []
  }
 ],
 "metadata": {
  "kernelspec": {
   "display_name": "Python 3 (ipykernel)",
   "language": "python",
   "name": "python3"
  },
  "language_info": {
   "codemirror_mode": {
    "name": "ipython",
    "version": 3
   },
   "file_extension": ".py",
   "mimetype": "text/x-python",
   "name": "python",
   "nbconvert_exporter": "python",
   "pygments_lexer": "ipython3",
   "version": "3.9.13"
  }
 },
 "nbformat": 4,
 "nbformat_minor": 5
}
